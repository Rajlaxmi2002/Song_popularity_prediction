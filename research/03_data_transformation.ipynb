{
 "cells": [
  {
   "cell_type": "code",
   "execution_count": 1,
   "metadata": {},
   "outputs": [],
   "source": [
    "import os\n",
    "os.chdir(\"../\")"
   ]
  },
  {
   "cell_type": "code",
   "execution_count": 3,
   "metadata": {},
   "outputs": [],
   "source": [
    "import pandas as pd"
   ]
  },
  {
   "cell_type": "code",
   "execution_count": 4,
   "metadata": {},
   "outputs": [],
   "source": [
    "data=pd.read_csv(\"artifacts/data_ingestion/train.csv\")"
   ]
  },
  {
   "cell_type": "code",
   "execution_count": 20,
   "metadata": {},
   "outputs": [],
   "source": [
    "from dataclasses import dataclass\n",
    "from pathlib import Path\n",
    "\n",
    "\n",
    "@dataclass(frozen=True)\n",
    "class DataTransformationConfig:\n",
    "    root_dir: Path\n",
    "    data_path: Path"
   ]
  },
  {
   "cell_type": "code",
   "execution_count": 6,
   "metadata": {},
   "outputs": [],
   "source": [
    "from src.SongPopularityPrediction.constants import *\n",
    "from src.SongPopularityPrediction.utils.common import read_yaml, create_directories"
   ]
  },
  {
   "cell_type": "code",
   "execution_count": 21,
   "metadata": {},
   "outputs": [],
   "source": [
    "class ConfigurationManager:\n",
    "    def __init__(\n",
    "        self,\n",
    "        config_filepath = CONFIG_FILE_PATH,\n",
    "        params_filepath = PARAMS_FILE_PATH,\n",
    "        schema_filepath = SCHEMA_FILE_PATH):\n",
    "\n",
    "        self.config = read_yaml(config_filepath)\n",
    "        self.params = read_yaml(params_filepath)\n",
    "        self.schema = read_yaml(schema_filepath)\n",
    "\n",
    "        create_directories([self.config.artifacts_root])\n",
    "\n",
    "\n",
    "    \n",
    "    def get_data_transformation_config(self) -> DataTransformationConfig:\n",
    "        config = self.config.data_transformation\n",
    "\n",
    "        create_directories([config.root_dir])\n",
    "\n",
    "        data_transformation_config = DataTransformationConfig(\n",
    "            root_dir=config.root_dir,\n",
    "            data_path=config.data_path,\n",
    "        )\n",
    "\n",
    "        return data_transformation_config"
   ]
  },
  {
   "cell_type": "code",
   "execution_count": 9,
   "metadata": {},
   "outputs": [],
   "source": [
    "import os\n",
    "from src.SongPopularityPrediction import logger\n",
    "import pandas as pd\n",
    "from sklearn.impute import SimpleImputer\n",
    "import numpy as np\n",
    "from sklearn.model_selection import train_test_split"
   ]
  },
  {
   "cell_type": "code",
   "execution_count": 10,
   "metadata": {},
   "outputs": [],
   "source": [
    "from sklearn import preprocessing\n",
    "from sklearn.preprocessing import OneHotEncoder"
   ]
  },
  {
   "cell_type": "code",
   "execution_count": 33,
   "metadata": {},
   "outputs": [],
   "source": [
    "class DataTransformation:\n",
    "    def __init__(self, config: DataTransformationConfig):\n",
    "        self.config = config\n",
    "\n",
    "    def transformation(self,X):\n",
    "        y=X.pop('song_popularity')\n",
    "        imputer = SimpleImputer(missing_values=np.nan, strategy='mean')\n",
    "        imputer = imputer.fit(X)\n",
    "        X = imputer.transform(X)\n",
    "\n",
    "        columns=['id', 'song_duration_ms', 'acousticness', 'danceability', 'energy',\n",
    "                'instrumentalness', 'key', 'liveness', 'loudness', 'audio_mode',\n",
    "                'speechiness', 'tempo', 'time_signature', 'audio_valence']\n",
    "        X=pd.DataFrame(X,columns=columns)\n",
    "\n",
    "\n",
    "\n",
    "        encoder = OneHotEncoder(handle_unknown='ignore')\n",
    "        encoder_X = pd.DataFrame(encoder.fit_transform(X[['key','time_signature']]).toarray())\n",
    "        X=X.join(encoder_X)\n",
    "        X.drop(['key','time_signature'],axis=1,inplace=True)\n",
    "\n",
    "        x =X.values #returns a numpy array\n",
    "        min_max_scaler = preprocessing.MinMaxScaler()\n",
    "        x_scaled = min_max_scaler.fit_transform(x)\n",
    "        X_scaled = pd.DataFrame(x_scaled)\n",
    "        X_scaled['song_popularity']=y\n",
    "        return X_scaled\n",
    "    \n",
    "    def train_test_splitting(self):\n",
    "        print(self.config.root_dir)\n",
    "        print(self.config.data_path)\n",
    "        data = pd.read_csv(self.config.data_path)\n",
    "\n",
    "        data=self.transformation(data)\n",
    "        train,test=train_test_split(data)\n",
    "\n",
    "        train.to_csv(os.path.join(self.config.root_dir,\"train.csv\"),index=False)\n",
    "        test.to_csv(os.path.join(self.config.root_dir,\"test.csv\"),index=False)\n",
    "\n",
    "        logger.info(\"Data tranformation and splitting it into traina and test\")\n",
    "        logger.info(train.shape)\n",
    "        logger.info(test.shape)"
   ]
  },
  {
   "cell_type": "code",
   "execution_count": 38,
   "metadata": {},
   "outputs": [
    {
     "name": "stdout",
     "output_type": "stream",
     "text": [
      "[2023-12-24 01:39:08,533: INFO: common: yaml file: config\\config.yaml loaded successfully]\n",
      "[2023-12-24 01:39:08,539: INFO: common: yaml file: params.yaml loaded successfully]\n",
      "[2023-12-24 01:39:08,553: INFO: common: yaml file: schema.yaml loaded successfully]\n",
      "[2023-12-24 01:39:08,556: INFO: common: created directory at: artifacts]\n"
     ]
    },
    {
     "name": "stdout",
     "output_type": "stream",
     "text": [
      "[2023-12-24 01:39:08,658: INFO: common: created directory at: artifacts/data_transformation]\n",
      "artifacts/data_transformation\n",
      "artifacts/data_ingestion/train.csv\n",
      "[2023-12-24 01:39:10,127: INFO: 2405595147: Data tranformation and splitting it into traina and test]\n",
      "[2023-12-24 01:39:10,127: INFO: 2405595147: (30000, 30)]\n",
      "[2023-12-24 01:39:10,127: INFO: 2405595147: (10000, 30)]\n"
     ]
    }
   ],
   "source": [
    "try:\n",
    "    config=ConfigurationManager()\n",
    "    data_transformation_config=config.get_data_transformation_config()\n",
    "    data_transformation=DataTransformation(config=data_transformation_config)\n",
    "    data_transformation.train_test_splitting()\n",
    "except Exception as e:\n",
    "    raise e"
   ]
  },
  {
   "cell_type": "code",
   "execution_count": null,
   "metadata": {},
   "outputs": [],
   "source": []
  }
 ],
 "metadata": {
  "kernelspec": {
   "display_name": "mlproj",
   "language": "python",
   "name": "python3"
  },
  "language_info": {
   "codemirror_mode": {
    "name": "ipython",
    "version": 3
   },
   "file_extension": ".py",
   "mimetype": "text/x-python",
   "name": "python",
   "nbconvert_exporter": "python",
   "pygments_lexer": "ipython3",
   "version": "3.8.18"
  }
 },
 "nbformat": 4,
 "nbformat_minor": 2
}
